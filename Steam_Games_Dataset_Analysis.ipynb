{
  "nbformat": 4,
  "nbformat_minor": 0,
  "metadata": {
    "colab": {
      "provenance": [],
      "toc_visible": true,
      "collapsed_sections": [
        "e3-TLDQD5xqH",
        "nzn5pIDPfCBi",
        "vS6v-GMUC__H",
        "W6A8ijl8Mo8m",
        "vw_MaOaiaa4d"
      ],
      "authorship_tag": "ABX9TyNRsN3jhvmA/EyUWV4XbizH",
      "include_colab_link": true
    },
    "kernelspec": {
      "name": "python3",
      "display_name": "Python 3"
    },
    "language_info": {
      "name": "python"
    }
  },
  "cells": [
    {
      "cell_type": "markdown",
      "metadata": {
        "id": "view-in-github",
        "colab_type": "text"
      },
      "source": [
        "<a href=\"https://colab.research.google.com/github/wand-work/steam_year_stats/blob/main/Steam_Games_Dataset_Analysis.ipynb\" target=\"_parent\"><img src=\"https://colab.research.google.com/assets/colab-badge.svg\" alt=\"Open In Colab\"/></a>"
      ]
    },
    {
      "cell_type": "markdown",
      "source": [
        "# **Steam Games Dataset Analysis**"
      ],
      "metadata": {
        "id": "PPBA5l9H5BhJ"
      }
    },
    {
      "cell_type": "markdown",
      "source": [
        "Steam Games Dataset เป็นข้อมูลที่เกี่ยวกับเกมในแพลตฟอร์มที่มีชื่อว่า “Steam” ซึ่งเป็นแพลตฟอร์มสำหรับรวบรวมและจัดจำหน่ายเกมดิจิทัลที่เป็นที่นิยมเป็นอย่างมาก โดยหวังว่าการวิเคราะห์จะทำให้เกิดความเข้าใจต่อแนวโน้มและปัจจัยต่าง ๆ ที่มีผลต่อยอดขายและความนิยมของเกมได้มากยิ่งขึ้น"
      ],
      "metadata": {
        "id": "rG7x-5eC5KDJ"
      }
    },
    {
      "cell_type": "markdown",
      "source": [
        "\n",
        "\n",
        "---\n",
        "\n"
      ],
      "metadata": {
        "id": "ynGLOFjch7bj"
      }
    },
    {
      "cell_type": "markdown",
      "source": [
        "# **1. Data & Package**"
      ],
      "metadata": {
        "id": "e3-TLDQD5xqH"
      }
    },
    {
      "cell_type": "markdown",
      "source": [
        "ก่อนเริ่มการวิเคราะห์ได้ทำการติดตั้ง library เพื่อใช้ในการจัดการ วิเคราะห์ และนำเสนอข้อมูล โดยได้ทำการนำเข้าข้อมูลมาจาก kaggle ซึ่ง library ที่เลือกใช้เป็นหลักนั้น ได้แก่ Pandas, NumPy, Opendatasets, Matplotlib และ Seaborn เนื่องจากข้อมูลที่ได้มานั้นเป็น Structure Data"
      ],
      "metadata": {
        "id": "trdlnV-WNITK"
      }
    },
    {
      "cell_type": "code",
      "source": [
        "# Import library\n",
        "!pip install opendatasets\n",
        "import pandas as pd\n",
        "import numpy as np\n",
        "import opendatasets as od\n",
        "import matplotlib.pyplot as plt\n",
        "import seaborn as sns"
      ],
      "metadata": {
        "colab": {
          "base_uri": "https://localhost:8080/"
        },
        "id": "4PCOdxvlQOrr",
        "outputId": "42334c6f-fb95-438a-c2d4-7e38dfb8ecca"
      },
      "execution_count": 1,
      "outputs": [
        {
          "output_type": "stream",
          "name": "stdout",
          "text": [
            "Collecting opendatasets\n",
            "  Downloading opendatasets-0.1.22-py3-none-any.whl.metadata (9.2 kB)\n",
            "Requirement already satisfied: tqdm in /usr/local/lib/python3.10/dist-packages (from opendatasets) (4.66.5)\n",
            "Requirement already satisfied: kaggle in /usr/local/lib/python3.10/dist-packages (from opendatasets) (1.6.17)\n",
            "Requirement already satisfied: click in /usr/local/lib/python3.10/dist-packages (from opendatasets) (8.1.7)\n",
            "Requirement already satisfied: six>=1.10 in /usr/local/lib/python3.10/dist-packages (from kaggle->opendatasets) (1.16.0)\n",
            "Requirement already satisfied: certifi>=2023.7.22 in /usr/local/lib/python3.10/dist-packages (from kaggle->opendatasets) (2024.8.30)\n",
            "Requirement already satisfied: python-dateutil in /usr/local/lib/python3.10/dist-packages (from kaggle->opendatasets) (2.8.2)\n",
            "Requirement already satisfied: requests in /usr/local/lib/python3.10/dist-packages (from kaggle->opendatasets) (2.32.3)\n",
            "Requirement already satisfied: python-slugify in /usr/local/lib/python3.10/dist-packages (from kaggle->opendatasets) (8.0.4)\n",
            "Requirement already satisfied: urllib3 in /usr/local/lib/python3.10/dist-packages (from kaggle->opendatasets) (2.2.3)\n",
            "Requirement already satisfied: bleach in /usr/local/lib/python3.10/dist-packages (from kaggle->opendatasets) (6.1.0)\n",
            "Requirement already satisfied: webencodings in /usr/local/lib/python3.10/dist-packages (from bleach->kaggle->opendatasets) (0.5.1)\n",
            "Requirement already satisfied: text-unidecode>=1.3 in /usr/local/lib/python3.10/dist-packages (from python-slugify->kaggle->opendatasets) (1.3)\n",
            "Requirement already satisfied: charset-normalizer<4,>=2 in /usr/local/lib/python3.10/dist-packages (from requests->kaggle->opendatasets) (3.3.2)\n",
            "Requirement already satisfied: idna<4,>=2.5 in /usr/local/lib/python3.10/dist-packages (from requests->kaggle->opendatasets) (3.10)\n",
            "Downloading opendatasets-0.1.22-py3-none-any.whl (15 kB)\n",
            "Installing collected packages: opendatasets\n",
            "Successfully installed opendatasets-0.1.22\n"
          ]
        }
      ]
    },
    {
      "cell_type": "code",
      "source": [
        "# Import dataset from Kaggle\n",
        "od.download(\n",
        "    \"https://www.kaggle.com/datasets/fronkongames/steam-games-dataset\")\n",
        "df_steam = pd.read_csv('/content/steam-games-dataset/games.csv')\n",
        "print( f\"\\n\\nRows\\n\\n{df_steam.index=}\" )\n",
        "print( f\"\\n\\nColums\\n\\n{df_steam.columns=}\" )"
      ],
      "metadata": {
        "id": "cQ7zV-pOQXip",
        "colab": {
          "base_uri": "https://localhost:8080/"
        },
        "outputId": "76efe53d-e532-4a93-e3a3-6e8004231e4f"
      },
      "execution_count": 2,
      "outputs": [
        {
          "output_type": "stream",
          "name": "stdout",
          "text": [
            "Please provide your Kaggle credentials to download this dataset. Learn more: http://bit.ly/kaggle-creds\n",
            "Your Kaggle username: phimwib\n",
            "Your Kaggle Key: ··········\n",
            "Dataset URL: https://www.kaggle.com/datasets/fronkongames/steam-games-dataset\n",
            "Downloading steam-games-dataset.zip to ./steam-games-dataset\n"
          ]
        },
        {
          "output_type": "stream",
          "name": "stderr",
          "text": [
            "100%|██████████| 211M/211M [00:01<00:00, 149MB/s]\n"
          ]
        },
        {
          "output_type": "stream",
          "name": "stdout",
          "text": [
            "\n",
            "\n",
            "\n",
            "Rows\n",
            "\n",
            "df_steam.index=Index([  20200,  655370, 1732930, 1355720, 1139950, 1469160, 1659180, 1968760,\n",
            "       1178150,  320150,\n",
            "       ...\n",
            "       3148680, 2435240, 2214970, 3165130, 3199580, 3080940, 2593970, 3137150,\n",
            "       3124670, 3054200],\n",
            "      dtype='int64', length=97410)\n",
            "\n",
            "\n",
            "Colums\n",
            "\n",
            "df_steam.columns=Index(['AppID', 'Name', 'Release date', 'Estimated owners', 'Peak CCU',\n",
            "       'Required age', 'Price', 'DiscountDLC count', 'About the game',\n",
            "       'Supported languages', 'Full audio languages', 'Reviews',\n",
            "       'Header image', 'Website', 'Support url', 'Support email', 'Windows',\n",
            "       'Mac', 'Linux', 'Metacritic score', 'Metacritic url', 'User score',\n",
            "       'Positive', 'Negative', 'Score rank', 'Achievements', 'Recommendations',\n",
            "       'Notes', 'Average playtime forever', 'Average playtime two weeks',\n",
            "       'Median playtime forever', 'Median playtime two weeks', 'Developers',\n",
            "       'Publishers', 'Categories', 'Genres', 'Tags', 'Screenshots', 'Movies'],\n",
            "      dtype='object')\n"
          ]
        }
      ]
    },
    {
      "cell_type": "markdown",
      "source": [
        "เมื่อทำการนำเข้าข้อมูล จะเห็นได้ว่าข้อมูลชุดนี้มีทั้งหมด 97,410 แถว และมีทั้งหมด 39 คอลัมน์ โดยรายละเอียดแต่ละคอลัมน์มีดังต่อไปนี้\n",
        "1. AppID = รหัสประจำตัวของเกมใน Steam\n",
        "2. Name = ชื่อของเกม\n",
        "3. Release date = วันที่เกมถูกเปิดตัว\n",
        "4. Estimated owners = ค่าประมาณจำนวนผู้ที่เป็นเจ้าของเกม\n",
        "5. Peak CCU = จำนวนผู้เล่นพร้อมกันสูงสุด\n",
        "6. Required age = อายุขั้นต่ำที่อนุญาตให้เล่นเกม\n",
        "7. Price = ราคาของเกม\n",
        "8. DiscountDLC count = จำนวน DLC ที่ลดราคา\n",
        "9. About the game = คำอธิบายสั้น ๆ เกี่ยวกับเกม\n",
        "10. Supported languages = ภาษาที่เกมรองรับ\n",
        "11. Full audio languages = ภาษาที่รองรับเสียงพากย์เต็มรูปแบบ\n",
        "12. Reviews = ความคิดเห็นจากผู้เล่นหรือเว็บไซต์\n",
        "14. Website = เว็บไซต์ของเกม\n",
        "15. Support url = ลิงก์สำหรับการสนับสนุนเกม\n",
        "16. Support email = อีเมลสำหรับการติดต่อสนับสนุน\n",
        "17. Windows = เกมรองรับบน Windows\n",
        "18. Mac = เกมรองรับบน Mac\n",
        "19. Linux = เกมรองรับบน Linux\n",
        "20. Metacritic score = คะแนนจากเว็บไซต์ Metacritic\n",
        "21. Metacritic url = ลิงก์ไปยังหน้า Metacritic ของเกม\n",
        "22. User score = คะแนนที่ผู้ใช้งานให้เกม\n",
        "23. Positive = คะแนนโหวตเชิงบวก\n",
        "24. Negative = คะแนนโหวตเชิงลบ\n",
        "25. Score rank = อันดับของเกมตามคะแนน\n",
        "26. Achievements = จำนวนความสำเร็จที่ผู้เล่นสามารถปลดล็อกได้ในเกม\n",
        "27. Recommendations = จำนวนคำแนะนำเกมจากผู้เล่น\n",
        "28. Notes = ข้อมูลเพิ่มเติม\n",
        "29. Average playtime forever = เวลาเล่นเฉลี่ยตั้งแต่เกมออก\n",
        "30. Average playtime two weeks = เวลาเล่นเฉลี่ยในช่วง 2 สัปดาห์ที่ผ่านมา\n",
        "31. Median playtime forever = เวลาเล่นกลางใตั้งแต่เกมออก\n",
        "32. Median playtime two weeks = เวลาเล่นกลางในช่วง 2 สัปดาห์ที่ผ่านมา\n",
        "33. Developers = ชื่อผู้พัฒนาเกม\n",
        "34. Publishers = ชื่อผู้จัดจำหน่ายเกม\n",
        "35. Categories = ประเภทหรือหมวดหมู่ของเกม (เช่น Single-player, Multi-player)\n",
        "36. Genres = แนวของเกม (เช่น Action, Adventure)\n",
        "37. Tags = แท็กหรือคำสำคัญที่เกี่ยวกับเกม\n",
        "38. Screenshots = ภาพหน้าจอของเกม\n",
        "39. Movies = วิดีโอหรือคลิปเกี่ยวกับเกม"
      ],
      "metadata": {
        "id": "dn5XZ59yUSjN"
      }
    },
    {
      "cell_type": "markdown",
      "source": [
        "\n",
        "\n",
        "---\n",
        "\n"
      ],
      "metadata": {
        "id": "QLdjLT7vh295"
      }
    },
    {
      "cell_type": "markdown",
      "source": [
        "# **2. Cleansing Data**"
      ],
      "metadata": {
        "id": "TvZGZ9RSej2V"
      }
    },
    {
      "cell_type": "markdown",
      "source": [
        "จากข้อมูลที่ได้มานั้น พบว่าข้อมูลอยู่ในรูปแบบที่ไม่สมบูรณ์ จึงได้มีการปรับปรุงและแก้ไขข้อมูลเพื่อให้ง่ายต่อการวิเคราะห์มากยิ่งขึ้น โดยได้แก้ไขส่วนต่าง ๆ  ดังต่อไปนี้"
      ],
      "metadata": {
        "id": "jV8jpnZse5hC"
      }
    },
    {
      "cell_type": "markdown",
      "source": [
        "## **2.1 Renaming Columns**\n",
        "\n",
        "\n"
      ],
      "metadata": {
        "id": "nzn5pIDPfCBi"
      }
    },
    {
      "cell_type": "markdown",
      "source": [
        "จากการตรวจสอบพบว่า คอลัมน์ 'Name' ไม่ใช่ค่าจริงในคอลัมน์นี้ จึงได้ทำการลบคอลัมน์ทิ้ง อีกทั้งชื่อคอลัมน์ใน 7 คอลัมน์แรกมีการเลื่อน ทำให้ข้อมูลในแต่ละคอลัมน์ไม่ตรงกับชื่อที่ควรจะเป็น ดังนั้นจึงมีการแก้ไขชื่อคอลัมน์เพื่อให้ข้อมูลสอดคล้องกับชื่อคอลัมน์ที่ถูกต้อง นอกจากนี้ยังมีการปรับชื่อคอลัมน์บางส่วนเล็กน้อย เพื่อให้ง่ายต่อการนำไปวิเคราะห์ และได้กำหนดให้คอลัมน์ 'Name' เป็นดัชนีหลักของตารางนี้อีกด้วย"
      ],
      "metadata": {
        "id": "QtZRMVgzfZKw"
      }
    },
    {
      "cell_type": "code",
      "source": [
        "# Renaming Columns\n",
        "df = df_steam.drop('Price', axis=1)\n",
        "df_re = df.rename(columns = {'AppID':'Name', 'Name':'Release_date', 'Release date':'owners', 'Estimated owners':'Peak_CCU', 'Peak CCU':'required_age', 'Required age':'Price',\n",
        "                             'Metacritic score':'Metacritic_score', 'Average playtime forever':'Avg_playtime', 'Median playtime forever':'Median_playtime'})\n",
        "\n",
        "df_re.set_index('Name', inplace=True)"
      ],
      "metadata": {
        "id": "N8uhpD5vgeJC"
      },
      "execution_count": 4,
      "outputs": []
    },
    {
      "cell_type": "code",
      "source": [
        "# Before Rename\n",
        "df_steam.head(3)"
      ],
      "metadata": {
        "colab": {
          "base_uri": "https://localhost:8080/",
          "height": 446
        },
        "id": "_NXZ7nFirNJ8",
        "outputId": "c23affc3-ce6e-466f-91d1-4b230888f71a"
      },
      "execution_count": 5,
      "outputs": [
        {
          "output_type": "execute_result",
          "data": {
            "text/plain": [
              "                    AppID          Name Release date  Estimated owners  \\\n",
              "20200    Galactic Bowling  Oct 21, 2008    0 - 20000                 0   \n",
              "655370       Train Bandit  Oct 12, 2017    0 - 20000                 0   \n",
              "1732930      Jolt Project  Nov 17, 2021    0 - 20000                 0   \n",
              "\n",
              "         Peak CCU  Required age  Price  DiscountDLC count  \\\n",
              "20200           0         19.99      0                  0   \n",
              "655370          0          0.99      0                  0   \n",
              "1732930         0          4.99      0                  0   \n",
              "\n",
              "                                            About the game  \\\n",
              "20200    Galactic Bowling is an exaggerated and stylize...   \n",
              "655370   THE LAW!! Looks to be a showdown atop a train....   \n",
              "1732930  Jolt Project: The army now has a new robotics ...   \n",
              "\n",
              "                                       Supported languages  ...  \\\n",
              "20200                                          ['English']  ...   \n",
              "655370   ['English', 'French', 'Italian', 'German', 'Sp...  ...   \n",
              "1732930                 ['English', 'Portuguese - Brazil']  ...   \n",
              "\n",
              "        Average playtime two weeks Median playtime forever  \\\n",
              "20200                            0                       0   \n",
              "655370                           0                       0   \n",
              "1732930                          0                       0   \n",
              "\n",
              "        Median playtime two weeks             Developers  \\\n",
              "20200                           0  Perpetual FX Creative   \n",
              "655370                          0           Rusty Moyher   \n",
              "1732930                         0          Campião Games   \n",
              "\n",
              "                    Publishers  \\\n",
              "20200    Perpetual FX Creative   \n",
              "655370            Wild Rooster   \n",
              "1732930          Campião Games   \n",
              "\n",
              "                                                Categories  \\\n",
              "20200    Single-player,Multi-player,Steam Achievements,...   \n",
              "655370   Single-player,Steam Achievements,Full controll...   \n",
              "1732930                                      Single-player   \n",
              "\n",
              "                                  Genres  \\\n",
              "20200                Casual,Indie,Sports   \n",
              "655370                      Action,Indie   \n",
              "1732930  Action,Adventure,Indie,Strategy   \n",
              "\n",
              "                                                      Tags  \\\n",
              "20200                          Indie,Casual,Sports,Bowling   \n",
              "655370   Indie,Action,Pixel Graphics,2D,Retro,Arcade,Sc...   \n",
              "1732930                                                NaN   \n",
              "\n",
              "                                               Screenshots  \\\n",
              "20200    https://cdn.akamai.steamstatic.com/steam/apps/...   \n",
              "655370   https://cdn.akamai.steamstatic.com/steam/apps/...   \n",
              "1732930  https://cdn.akamai.steamstatic.com/steam/apps/...   \n",
              "\n",
              "                                                    Movies  \n",
              "20200    http://cdn.akamai.steamstatic.com/steam/apps/2...  \n",
              "655370   http://cdn.akamai.steamstatic.com/steam/apps/2...  \n",
              "1732930  http://cdn.akamai.steamstatic.com/steam/apps/2...  \n",
              "\n",
              "[3 rows x 39 columns]"
            ],
            "text/html": [
              "\n",
              "  <div id=\"df-807dfe3c-7bf3-4e52-9ace-c36d85440223\" class=\"colab-df-container\">\n",
              "    <div>\n",
              "<style scoped>\n",
              "    .dataframe tbody tr th:only-of-type {\n",
              "        vertical-align: middle;\n",
              "    }\n",
              "\n",
              "    .dataframe tbody tr th {\n",
              "        vertical-align: top;\n",
              "    }\n",
              "\n",
              "    .dataframe thead th {\n",
              "        text-align: right;\n",
              "    }\n",
              "</style>\n",
              "<table border=\"1\" class=\"dataframe\">\n",
              "  <thead>\n",
              "    <tr style=\"text-align: right;\">\n",
              "      <th></th>\n",
              "      <th>AppID</th>\n",
              "      <th>Name</th>\n",
              "      <th>Release date</th>\n",
              "      <th>Estimated owners</th>\n",
              "      <th>Peak CCU</th>\n",
              "      <th>Required age</th>\n",
              "      <th>Price</th>\n",
              "      <th>DiscountDLC count</th>\n",
              "      <th>About the game</th>\n",
              "      <th>Supported languages</th>\n",
              "      <th>...</th>\n",
              "      <th>Average playtime two weeks</th>\n",
              "      <th>Median playtime forever</th>\n",
              "      <th>Median playtime two weeks</th>\n",
              "      <th>Developers</th>\n",
              "      <th>Publishers</th>\n",
              "      <th>Categories</th>\n",
              "      <th>Genres</th>\n",
              "      <th>Tags</th>\n",
              "      <th>Screenshots</th>\n",
              "      <th>Movies</th>\n",
              "    </tr>\n",
              "  </thead>\n",
              "  <tbody>\n",
              "    <tr>\n",
              "      <th>20200</th>\n",
              "      <td>Galactic Bowling</td>\n",
              "      <td>Oct 21, 2008</td>\n",
              "      <td>0 - 20000</td>\n",
              "      <td>0</td>\n",
              "      <td>0</td>\n",
              "      <td>19.99</td>\n",
              "      <td>0</td>\n",
              "      <td>0</td>\n",
              "      <td>Galactic Bowling is an exaggerated and stylize...</td>\n",
              "      <td>['English']</td>\n",
              "      <td>...</td>\n",
              "      <td>0</td>\n",
              "      <td>0</td>\n",
              "      <td>0</td>\n",
              "      <td>Perpetual FX Creative</td>\n",
              "      <td>Perpetual FX Creative</td>\n",
              "      <td>Single-player,Multi-player,Steam Achievements,...</td>\n",
              "      <td>Casual,Indie,Sports</td>\n",
              "      <td>Indie,Casual,Sports,Bowling</td>\n",
              "      <td>https://cdn.akamai.steamstatic.com/steam/apps/...</td>\n",
              "      <td>http://cdn.akamai.steamstatic.com/steam/apps/2...</td>\n",
              "    </tr>\n",
              "    <tr>\n",
              "      <th>655370</th>\n",
              "      <td>Train Bandit</td>\n",
              "      <td>Oct 12, 2017</td>\n",
              "      <td>0 - 20000</td>\n",
              "      <td>0</td>\n",
              "      <td>0</td>\n",
              "      <td>0.99</td>\n",
              "      <td>0</td>\n",
              "      <td>0</td>\n",
              "      <td>THE LAW!! Looks to be a showdown atop a train....</td>\n",
              "      <td>['English', 'French', 'Italian', 'German', 'Sp...</td>\n",
              "      <td>...</td>\n",
              "      <td>0</td>\n",
              "      <td>0</td>\n",
              "      <td>0</td>\n",
              "      <td>Rusty Moyher</td>\n",
              "      <td>Wild Rooster</td>\n",
              "      <td>Single-player,Steam Achievements,Full controll...</td>\n",
              "      <td>Action,Indie</td>\n",
              "      <td>Indie,Action,Pixel Graphics,2D,Retro,Arcade,Sc...</td>\n",
              "      <td>https://cdn.akamai.steamstatic.com/steam/apps/...</td>\n",
              "      <td>http://cdn.akamai.steamstatic.com/steam/apps/2...</td>\n",
              "    </tr>\n",
              "    <tr>\n",
              "      <th>1732930</th>\n",
              "      <td>Jolt Project</td>\n",
              "      <td>Nov 17, 2021</td>\n",
              "      <td>0 - 20000</td>\n",
              "      <td>0</td>\n",
              "      <td>0</td>\n",
              "      <td>4.99</td>\n",
              "      <td>0</td>\n",
              "      <td>0</td>\n",
              "      <td>Jolt Project: The army now has a new robotics ...</td>\n",
              "      <td>['English', 'Portuguese - Brazil']</td>\n",
              "      <td>...</td>\n",
              "      <td>0</td>\n",
              "      <td>0</td>\n",
              "      <td>0</td>\n",
              "      <td>Campião Games</td>\n",
              "      <td>Campião Games</td>\n",
              "      <td>Single-player</td>\n",
              "      <td>Action,Adventure,Indie,Strategy</td>\n",
              "      <td>NaN</td>\n",
              "      <td>https://cdn.akamai.steamstatic.com/steam/apps/...</td>\n",
              "      <td>http://cdn.akamai.steamstatic.com/steam/apps/2...</td>\n",
              "    </tr>\n",
              "  </tbody>\n",
              "</table>\n",
              "<p>3 rows × 39 columns</p>\n",
              "</div>\n",
              "    <div class=\"colab-df-buttons\">\n",
              "\n",
              "  <div class=\"colab-df-container\">\n",
              "    <button class=\"colab-df-convert\" onclick=\"convertToInteractive('df-807dfe3c-7bf3-4e52-9ace-c36d85440223')\"\n",
              "            title=\"Convert this dataframe to an interactive table.\"\n",
              "            style=\"display:none;\">\n",
              "\n",
              "  <svg xmlns=\"http://www.w3.org/2000/svg\" height=\"24px\" viewBox=\"0 -960 960 960\">\n",
              "    <path d=\"M120-120v-720h720v720H120Zm60-500h600v-160H180v160Zm220 220h160v-160H400v160Zm0 220h160v-160H400v160ZM180-400h160v-160H180v160Zm440 0h160v-160H620v160ZM180-180h160v-160H180v160Zm440 0h160v-160H620v160Z\"/>\n",
              "  </svg>\n",
              "    </button>\n",
              "\n",
              "  <style>\n",
              "    .colab-df-container {\n",
              "      display:flex;\n",
              "      gap: 12px;\n",
              "    }\n",
              "\n",
              "    .colab-df-convert {\n",
              "      background-color: #E8F0FE;\n",
              "      border: none;\n",
              "      border-radius: 50%;\n",
              "      cursor: pointer;\n",
              "      display: none;\n",
              "      fill: #1967D2;\n",
              "      height: 32px;\n",
              "      padding: 0 0 0 0;\n",
              "      width: 32px;\n",
              "    }\n",
              "\n",
              "    .colab-df-convert:hover {\n",
              "      background-color: #E2EBFA;\n",
              "      box-shadow: 0px 1px 2px rgba(60, 64, 67, 0.3), 0px 1px 3px 1px rgba(60, 64, 67, 0.15);\n",
              "      fill: #174EA6;\n",
              "    }\n",
              "\n",
              "    .colab-df-buttons div {\n",
              "      margin-bottom: 4px;\n",
              "    }\n",
              "\n",
              "    [theme=dark] .colab-df-convert {\n",
              "      background-color: #3B4455;\n",
              "      fill: #D2E3FC;\n",
              "    }\n",
              "\n",
              "    [theme=dark] .colab-df-convert:hover {\n",
              "      background-color: #434B5C;\n",
              "      box-shadow: 0px 1px 3px 1px rgba(0, 0, 0, 0.15);\n",
              "      filter: drop-shadow(0px 1px 2px rgba(0, 0, 0, 0.3));\n",
              "      fill: #FFFFFF;\n",
              "    }\n",
              "  </style>\n",
              "\n",
              "    <script>\n",
              "      const buttonEl =\n",
              "        document.querySelector('#df-807dfe3c-7bf3-4e52-9ace-c36d85440223 button.colab-df-convert');\n",
              "      buttonEl.style.display =\n",
              "        google.colab.kernel.accessAllowed ? 'block' : 'none';\n",
              "\n",
              "      async function convertToInteractive(key) {\n",
              "        const element = document.querySelector('#df-807dfe3c-7bf3-4e52-9ace-c36d85440223');\n",
              "        const dataTable =\n",
              "          await google.colab.kernel.invokeFunction('convertToInteractive',\n",
              "                                                    [key], {});\n",
              "        if (!dataTable) return;\n",
              "\n",
              "        const docLinkHtml = 'Like what you see? Visit the ' +\n",
              "          '<a target=\"_blank\" href=https://colab.research.google.com/notebooks/data_table.ipynb>data table notebook</a>'\n",
              "          + ' to learn more about interactive tables.';\n",
              "        element.innerHTML = '';\n",
              "        dataTable['output_type'] = 'display_data';\n",
              "        await google.colab.output.renderOutput(dataTable, element);\n",
              "        const docLink = document.createElement('div');\n",
              "        docLink.innerHTML = docLinkHtml;\n",
              "        element.appendChild(docLink);\n",
              "      }\n",
              "    </script>\n",
              "  </div>\n",
              "\n",
              "\n",
              "<div id=\"df-1936582b-e5c9-4e6e-b92e-12e3ddcbeb33\">\n",
              "  <button class=\"colab-df-quickchart\" onclick=\"quickchart('df-1936582b-e5c9-4e6e-b92e-12e3ddcbeb33')\"\n",
              "            title=\"Suggest charts\"\n",
              "            style=\"display:none;\">\n",
              "\n",
              "<svg xmlns=\"http://www.w3.org/2000/svg\" height=\"24px\"viewBox=\"0 0 24 24\"\n",
              "     width=\"24px\">\n",
              "    <g>\n",
              "        <path d=\"M19 3H5c-1.1 0-2 .9-2 2v14c0 1.1.9 2 2 2h14c1.1 0 2-.9 2-2V5c0-1.1-.9-2-2-2zM9 17H7v-7h2v7zm4 0h-2V7h2v10zm4 0h-2v-4h2v4z\"/>\n",
              "    </g>\n",
              "</svg>\n",
              "  </button>\n",
              "\n",
              "<style>\n",
              "  .colab-df-quickchart {\n",
              "      --bg-color: #E8F0FE;\n",
              "      --fill-color: #1967D2;\n",
              "      --hover-bg-color: #E2EBFA;\n",
              "      --hover-fill-color: #174EA6;\n",
              "      --disabled-fill-color: #AAA;\n",
              "      --disabled-bg-color: #DDD;\n",
              "  }\n",
              "\n",
              "  [theme=dark] .colab-df-quickchart {\n",
              "      --bg-color: #3B4455;\n",
              "      --fill-color: #D2E3FC;\n",
              "      --hover-bg-color: #434B5C;\n",
              "      --hover-fill-color: #FFFFFF;\n",
              "      --disabled-bg-color: #3B4455;\n",
              "      --disabled-fill-color: #666;\n",
              "  }\n",
              "\n",
              "  .colab-df-quickchart {\n",
              "    background-color: var(--bg-color);\n",
              "    border: none;\n",
              "    border-radius: 50%;\n",
              "    cursor: pointer;\n",
              "    display: none;\n",
              "    fill: var(--fill-color);\n",
              "    height: 32px;\n",
              "    padding: 0;\n",
              "    width: 32px;\n",
              "  }\n",
              "\n",
              "  .colab-df-quickchart:hover {\n",
              "    background-color: var(--hover-bg-color);\n",
              "    box-shadow: 0 1px 2px rgba(60, 64, 67, 0.3), 0 1px 3px 1px rgba(60, 64, 67, 0.15);\n",
              "    fill: var(--button-hover-fill-color);\n",
              "  }\n",
              "\n",
              "  .colab-df-quickchart-complete:disabled,\n",
              "  .colab-df-quickchart-complete:disabled:hover {\n",
              "    background-color: var(--disabled-bg-color);\n",
              "    fill: var(--disabled-fill-color);\n",
              "    box-shadow: none;\n",
              "  }\n",
              "\n",
              "  .colab-df-spinner {\n",
              "    border: 2px solid var(--fill-color);\n",
              "    border-color: transparent;\n",
              "    border-bottom-color: var(--fill-color);\n",
              "    animation:\n",
              "      spin 1s steps(1) infinite;\n",
              "  }\n",
              "\n",
              "  @keyframes spin {\n",
              "    0% {\n",
              "      border-color: transparent;\n",
              "      border-bottom-color: var(--fill-color);\n",
              "      border-left-color: var(--fill-color);\n",
              "    }\n",
              "    20% {\n",
              "      border-color: transparent;\n",
              "      border-left-color: var(--fill-color);\n",
              "      border-top-color: var(--fill-color);\n",
              "    }\n",
              "    30% {\n",
              "      border-color: transparent;\n",
              "      border-left-color: var(--fill-color);\n",
              "      border-top-color: var(--fill-color);\n",
              "      border-right-color: var(--fill-color);\n",
              "    }\n",
              "    40% {\n",
              "      border-color: transparent;\n",
              "      border-right-color: var(--fill-color);\n",
              "      border-top-color: var(--fill-color);\n",
              "    }\n",
              "    60% {\n",
              "      border-color: transparent;\n",
              "      border-right-color: var(--fill-color);\n",
              "    }\n",
              "    80% {\n",
              "      border-color: transparent;\n",
              "      border-right-color: var(--fill-color);\n",
              "      border-bottom-color: var(--fill-color);\n",
              "    }\n",
              "    90% {\n",
              "      border-color: transparent;\n",
              "      border-bottom-color: var(--fill-color);\n",
              "    }\n",
              "  }\n",
              "</style>\n",
              "\n",
              "  <script>\n",
              "    async function quickchart(key) {\n",
              "      const quickchartButtonEl =\n",
              "        document.querySelector('#' + key + ' button');\n",
              "      quickchartButtonEl.disabled = true;  // To prevent multiple clicks.\n",
              "      quickchartButtonEl.classList.add('colab-df-spinner');\n",
              "      try {\n",
              "        const charts = await google.colab.kernel.invokeFunction(\n",
              "            'suggestCharts', [key], {});\n",
              "      } catch (error) {\n",
              "        console.error('Error during call to suggestCharts:', error);\n",
              "      }\n",
              "      quickchartButtonEl.classList.remove('colab-df-spinner');\n",
              "      quickchartButtonEl.classList.add('colab-df-quickchart-complete');\n",
              "    }\n",
              "    (() => {\n",
              "      let quickchartButtonEl =\n",
              "        document.querySelector('#df-1936582b-e5c9-4e6e-b92e-12e3ddcbeb33 button');\n",
              "      quickchartButtonEl.style.display =\n",
              "        google.colab.kernel.accessAllowed ? 'block' : 'none';\n",
              "    })();\n",
              "  </script>\n",
              "</div>\n",
              "\n",
              "    </div>\n",
              "  </div>\n"
            ],
            "application/vnd.google.colaboratory.intrinsic+json": {
              "type": "dataframe",
              "variable_name": "df_steam"
            }
          },
          "metadata": {},
          "execution_count": 5
        }
      ]
    },
    {
      "cell_type": "code",
      "source": [
        "# After Rename\n",
        "df_re.head(3)"
      ],
      "metadata": {
        "colab": {
          "base_uri": "https://localhost:8080/",
          "height": 477
        },
        "id": "5yWg986bqjDr",
        "outputId": "6bb909e8-166c-4691-bd2a-b2d1e813d6c1"
      },
      "execution_count": 6,
      "outputs": [
        {
          "output_type": "execute_result",
          "data": {
            "text/plain": [
              "                  Release_date     owners  Peak_CCU  required_age  Price  \\\n",
              "Name                                                                       \n",
              "Galactic Bowling  Oct 21, 2008  0 - 20000         0             0  19.99   \n",
              "Train Bandit      Oct 12, 2017  0 - 20000         0             0   0.99   \n",
              "Jolt Project      Nov 17, 2021  0 - 20000         0             0   4.99   \n",
              "\n",
              "                  DiscountDLC count  \\\n",
              "Name                                  \n",
              "Galactic Bowling                  0   \n",
              "Train Bandit                      0   \n",
              "Jolt Project                      0   \n",
              "\n",
              "                                                     About the game  \\\n",
              "Name                                                                  \n",
              "Galactic Bowling  Galactic Bowling is an exaggerated and stylize...   \n",
              "Train Bandit      THE LAW!! Looks to be a showdown atop a train....   \n",
              "Jolt Project      Jolt Project: The army now has a new robotics ...   \n",
              "\n",
              "                                                Supported languages  \\\n",
              "Name                                                                  \n",
              "Galactic Bowling                                        ['English']   \n",
              "Train Bandit      ['English', 'French', 'Italian', 'German', 'Sp...   \n",
              "Jolt Project                     ['English', 'Portuguese - Brazil']   \n",
              "\n",
              "                 Full audio languages Reviews  ... Average playtime two weeks  \\\n",
              "Name                                           ...                              \n",
              "Galactic Bowling                   []     NaN  ...                          0   \n",
              "Train Bandit                       []     NaN  ...                          0   \n",
              "Jolt Project                       []     NaN  ...                          0   \n",
              "\n",
              "                 Median_playtime Median playtime two weeks  \\\n",
              "Name                                                         \n",
              "Galactic Bowling               0                         0   \n",
              "Train Bandit                   0                         0   \n",
              "Jolt Project                   0                         0   \n",
              "\n",
              "                             Developers             Publishers  \\\n",
              "Name                                                             \n",
              "Galactic Bowling  Perpetual FX Creative  Perpetual FX Creative   \n",
              "Train Bandit               Rusty Moyher           Wild Rooster   \n",
              "Jolt Project              Campião Games          Campião Games   \n",
              "\n",
              "                                                         Categories  \\\n",
              "Name                                                                  \n",
              "Galactic Bowling  Single-player,Multi-player,Steam Achievements,...   \n",
              "Train Bandit      Single-player,Steam Achievements,Full controll...   \n",
              "Jolt Project                                          Single-player   \n",
              "\n",
              "                                           Genres  \\\n",
              "Name                                                \n",
              "Galactic Bowling              Casual,Indie,Sports   \n",
              "Train Bandit                         Action,Indie   \n",
              "Jolt Project      Action,Adventure,Indie,Strategy   \n",
              "\n",
              "                                                               Tags  \\\n",
              "Name                                                                  \n",
              "Galactic Bowling                        Indie,Casual,Sports,Bowling   \n",
              "Train Bandit      Indie,Action,Pixel Graphics,2D,Retro,Arcade,Sc...   \n",
              "Jolt Project                                                    NaN   \n",
              "\n",
              "                                                        Screenshots  \\\n",
              "Name                                                                  \n",
              "Galactic Bowling  https://cdn.akamai.steamstatic.com/steam/apps/...   \n",
              "Train Bandit      https://cdn.akamai.steamstatic.com/steam/apps/...   \n",
              "Jolt Project      https://cdn.akamai.steamstatic.com/steam/apps/...   \n",
              "\n",
              "                                                             Movies  \n",
              "Name                                                                 \n",
              "Galactic Bowling  http://cdn.akamai.steamstatic.com/steam/apps/2...  \n",
              "Train Bandit      http://cdn.akamai.steamstatic.com/steam/apps/2...  \n",
              "Jolt Project      http://cdn.akamai.steamstatic.com/steam/apps/2...  \n",
              "\n",
              "[3 rows x 37 columns]"
            ],
            "text/html": [
              "\n",
              "  <div id=\"df-256d5298-4607-4361-945e-e000852837b1\" class=\"colab-df-container\">\n",
              "    <div>\n",
              "<style scoped>\n",
              "    .dataframe tbody tr th:only-of-type {\n",
              "        vertical-align: middle;\n",
              "    }\n",
              "\n",
              "    .dataframe tbody tr th {\n",
              "        vertical-align: top;\n",
              "    }\n",
              "\n",
              "    .dataframe thead th {\n",
              "        text-align: right;\n",
              "    }\n",
              "</style>\n",
              "<table border=\"1\" class=\"dataframe\">\n",
              "  <thead>\n",
              "    <tr style=\"text-align: right;\">\n",
              "      <th></th>\n",
              "      <th>Release_date</th>\n",
              "      <th>owners</th>\n",
              "      <th>Peak_CCU</th>\n",
              "      <th>required_age</th>\n",
              "      <th>Price</th>\n",
              "      <th>DiscountDLC count</th>\n",
              "      <th>About the game</th>\n",
              "      <th>Supported languages</th>\n",
              "      <th>Full audio languages</th>\n",
              "      <th>Reviews</th>\n",
              "      <th>...</th>\n",
              "      <th>Average playtime two weeks</th>\n",
              "      <th>Median_playtime</th>\n",
              "      <th>Median playtime two weeks</th>\n",
              "      <th>Developers</th>\n",
              "      <th>Publishers</th>\n",
              "      <th>Categories</th>\n",
              "      <th>Genres</th>\n",
              "      <th>Tags</th>\n",
              "      <th>Screenshots</th>\n",
              "      <th>Movies</th>\n",
              "    </tr>\n",
              "    <tr>\n",
              "      <th>Name</th>\n",
              "      <th></th>\n",
              "      <th></th>\n",
              "      <th></th>\n",
              "      <th></th>\n",
              "      <th></th>\n",
              "      <th></th>\n",
              "      <th></th>\n",
              "      <th></th>\n",
              "      <th></th>\n",
              "      <th></th>\n",
              "      <th></th>\n",
              "      <th></th>\n",
              "      <th></th>\n",
              "      <th></th>\n",
              "      <th></th>\n",
              "      <th></th>\n",
              "      <th></th>\n",
              "      <th></th>\n",
              "      <th></th>\n",
              "      <th></th>\n",
              "      <th></th>\n",
              "    </tr>\n",
              "  </thead>\n",
              "  <tbody>\n",
              "    <tr>\n",
              "      <th>Galactic Bowling</th>\n",
              "      <td>Oct 21, 2008</td>\n",
              "      <td>0 - 20000</td>\n",
              "      <td>0</td>\n",
              "      <td>0</td>\n",
              "      <td>19.99</td>\n",
              "      <td>0</td>\n",
              "      <td>Galactic Bowling is an exaggerated and stylize...</td>\n",
              "      <td>['English']</td>\n",
              "      <td>[]</td>\n",
              "      <td>NaN</td>\n",
              "      <td>...</td>\n",
              "      <td>0</td>\n",
              "      <td>0</td>\n",
              "      <td>0</td>\n",
              "      <td>Perpetual FX Creative</td>\n",
              "      <td>Perpetual FX Creative</td>\n",
              "      <td>Single-player,Multi-player,Steam Achievements,...</td>\n",
              "      <td>Casual,Indie,Sports</td>\n",
              "      <td>Indie,Casual,Sports,Bowling</td>\n",
              "      <td>https://cdn.akamai.steamstatic.com/steam/apps/...</td>\n",
              "      <td>http://cdn.akamai.steamstatic.com/steam/apps/2...</td>\n",
              "    </tr>\n",
              "    <tr>\n",
              "      <th>Train Bandit</th>\n",
              "      <td>Oct 12, 2017</td>\n",
              "      <td>0 - 20000</td>\n",
              "      <td>0</td>\n",
              "      <td>0</td>\n",
              "      <td>0.99</td>\n",
              "      <td>0</td>\n",
              "      <td>THE LAW!! Looks to be a showdown atop a train....</td>\n",
              "      <td>['English', 'French', 'Italian', 'German', 'Sp...</td>\n",
              "      <td>[]</td>\n",
              "      <td>NaN</td>\n",
              "      <td>...</td>\n",
              "      <td>0</td>\n",
              "      <td>0</td>\n",
              "      <td>0</td>\n",
              "      <td>Rusty Moyher</td>\n",
              "      <td>Wild Rooster</td>\n",
              "      <td>Single-player,Steam Achievements,Full controll...</td>\n",
              "      <td>Action,Indie</td>\n",
              "      <td>Indie,Action,Pixel Graphics,2D,Retro,Arcade,Sc...</td>\n",
              "      <td>https://cdn.akamai.steamstatic.com/steam/apps/...</td>\n",
              "      <td>http://cdn.akamai.steamstatic.com/steam/apps/2...</td>\n",
              "    </tr>\n",
              "    <tr>\n",
              "      <th>Jolt Project</th>\n",
              "      <td>Nov 17, 2021</td>\n",
              "      <td>0 - 20000</td>\n",
              "      <td>0</td>\n",
              "      <td>0</td>\n",
              "      <td>4.99</td>\n",
              "      <td>0</td>\n",
              "      <td>Jolt Project: The army now has a new robotics ...</td>\n",
              "      <td>['English', 'Portuguese - Brazil']</td>\n",
              "      <td>[]</td>\n",
              "      <td>NaN</td>\n",
              "      <td>...</td>\n",
              "      <td>0</td>\n",
              "      <td>0</td>\n",
              "      <td>0</td>\n",
              "      <td>Campião Games</td>\n",
              "      <td>Campião Games</td>\n",
              "      <td>Single-player</td>\n",
              "      <td>Action,Adventure,Indie,Strategy</td>\n",
              "      <td>NaN</td>\n",
              "      <td>https://cdn.akamai.steamstatic.com/steam/apps/...</td>\n",
              "      <td>http://cdn.akamai.steamstatic.com/steam/apps/2...</td>\n",
              "    </tr>\n",
              "  </tbody>\n",
              "</table>\n",
              "<p>3 rows × 37 columns</p>\n",
              "</div>\n",
              "    <div class=\"colab-df-buttons\">\n",
              "\n",
              "  <div class=\"colab-df-container\">\n",
              "    <button class=\"colab-df-convert\" onclick=\"convertToInteractive('df-256d5298-4607-4361-945e-e000852837b1')\"\n",
              "            title=\"Convert this dataframe to an interactive table.\"\n",
              "            style=\"display:none;\">\n",
              "\n",
              "  <svg xmlns=\"http://www.w3.org/2000/svg\" height=\"24px\" viewBox=\"0 -960 960 960\">\n",
              "    <path d=\"M120-120v-720h720v720H120Zm60-500h600v-160H180v160Zm220 220h160v-160H400v160Zm0 220h160v-160H400v160ZM180-400h160v-160H180v160Zm440 0h160v-160H620v160ZM180-180h160v-160H180v160Zm440 0h160v-160H620v160Z\"/>\n",
              "  </svg>\n",
              "    </button>\n",
              "\n",
              "  <style>\n",
              "    .colab-df-container {\n",
              "      display:flex;\n",
              "      gap: 12px;\n",
              "    }\n",
              "\n",
              "    .colab-df-convert {\n",
              "      background-color: #E8F0FE;\n",
              "      border: none;\n",
              "      border-radius: 50%;\n",
              "      cursor: pointer;\n",
              "      display: none;\n",
              "      fill: #1967D2;\n",
              "      height: 32px;\n",
              "      padding: 0 0 0 0;\n",
              "      width: 32px;\n",
              "    }\n",
              "\n",
              "    .colab-df-convert:hover {\n",
              "      background-color: #E2EBFA;\n",
              "      box-shadow: 0px 1px 2px rgba(60, 64, 67, 0.3), 0px 1px 3px 1px rgba(60, 64, 67, 0.15);\n",
              "      fill: #174EA6;\n",
              "    }\n",
              "\n",
              "    .colab-df-buttons div {\n",
              "      margin-bottom: 4px;\n",
              "    }\n",
              "\n",
              "    [theme=dark] .colab-df-convert {\n",
              "      background-color: #3B4455;\n",
              "      fill: #D2E3FC;\n",
              "    }\n",
              "\n",
              "    [theme=dark] .colab-df-convert:hover {\n",
              "      background-color: #434B5C;\n",
              "      box-shadow: 0px 1px 3px 1px rgba(0, 0, 0, 0.15);\n",
              "      filter: drop-shadow(0px 1px 2px rgba(0, 0, 0, 0.3));\n",
              "      fill: #FFFFFF;\n",
              "    }\n",
              "  </style>\n",
              "\n",
              "    <script>\n",
              "      const buttonEl =\n",
              "        document.querySelector('#df-256d5298-4607-4361-945e-e000852837b1 button.colab-df-convert');\n",
              "      buttonEl.style.display =\n",
              "        google.colab.kernel.accessAllowed ? 'block' : 'none';\n",
              "\n",
              "      async function convertToInteractive(key) {\n",
              "        const element = document.querySelector('#df-256d5298-4607-4361-945e-e000852837b1');\n",
              "        const dataTable =\n",
              "          await google.colab.kernel.invokeFunction('convertToInteractive',\n",
              "                                                    [key], {});\n",
              "        if (!dataTable) return;\n",
              "\n",
              "        const docLinkHtml = 'Like what you see? Visit the ' +\n",
              "          '<a target=\"_blank\" href=https://colab.research.google.com/notebooks/data_table.ipynb>data table notebook</a>'\n",
              "          + ' to learn more about interactive tables.';\n",
              "        element.innerHTML = '';\n",
              "        dataTable['output_type'] = 'display_data';\n",
              "        await google.colab.output.renderOutput(dataTable, element);\n",
              "        const docLink = document.createElement('div');\n",
              "        docLink.innerHTML = docLinkHtml;\n",
              "        element.appendChild(docLink);\n",
              "      }\n",
              "    </script>\n",
              "  </div>\n",
              "\n",
              "\n",
              "<div id=\"df-bdb8673e-cfa9-4b36-924f-56ec89caa950\">\n",
              "  <button class=\"colab-df-quickchart\" onclick=\"quickchart('df-bdb8673e-cfa9-4b36-924f-56ec89caa950')\"\n",
              "            title=\"Suggest charts\"\n",
              "            style=\"display:none;\">\n",
              "\n",
              "<svg xmlns=\"http://www.w3.org/2000/svg\" height=\"24px\"viewBox=\"0 0 24 24\"\n",
              "     width=\"24px\">\n",
              "    <g>\n",
              "        <path d=\"M19 3H5c-1.1 0-2 .9-2 2v14c0 1.1.9 2 2 2h14c1.1 0 2-.9 2-2V5c0-1.1-.9-2-2-2zM9 17H7v-7h2v7zm4 0h-2V7h2v10zm4 0h-2v-4h2v4z\"/>\n",
              "    </g>\n",
              "</svg>\n",
              "  </button>\n",
              "\n",
              "<style>\n",
              "  .colab-df-quickchart {\n",
              "      --bg-color: #E8F0FE;\n",
              "      --fill-color: #1967D2;\n",
              "      --hover-bg-color: #E2EBFA;\n",
              "      --hover-fill-color: #174EA6;\n",
              "      --disabled-fill-color: #AAA;\n",
              "      --disabled-bg-color: #DDD;\n",
              "  }\n",
              "\n",
              "  [theme=dark] .colab-df-quickchart {\n",
              "      --bg-color: #3B4455;\n",
              "      --fill-color: #D2E3FC;\n",
              "      --hover-bg-color: #434B5C;\n",
              "      --hover-fill-color: #FFFFFF;\n",
              "      --disabled-bg-color: #3B4455;\n",
              "      --disabled-fill-color: #666;\n",
              "  }\n",
              "\n",
              "  .colab-df-quickchart {\n",
              "    background-color: var(--bg-color);\n",
              "    border: none;\n",
              "    border-radius: 50%;\n",
              "    cursor: pointer;\n",
              "    display: none;\n",
              "    fill: var(--fill-color);\n",
              "    height: 32px;\n",
              "    padding: 0;\n",
              "    width: 32px;\n",
              "  }\n",
              "\n",
              "  .colab-df-quickchart:hover {\n",
              "    background-color: var(--hover-bg-color);\n",
              "    box-shadow: 0 1px 2px rgba(60, 64, 67, 0.3), 0 1px 3px 1px rgba(60, 64, 67, 0.15);\n",
              "    fill: var(--button-hover-fill-color);\n",
              "  }\n",
              "\n",
              "  .colab-df-quickchart-complete:disabled,\n",
              "  .colab-df-quickchart-complete:disabled:hover {\n",
              "    background-color: var(--disabled-bg-color);\n",
              "    fill: var(--disabled-fill-color);\n",
              "    box-shadow: none;\n",
              "  }\n",
              "\n",
              "  .colab-df-spinner {\n",
              "    border: 2px solid var(--fill-color);\n",
              "    border-color: transparent;\n",
              "    border-bottom-color: var(--fill-color);\n",
              "    animation:\n",
              "      spin 1s steps(1) infinite;\n",
              "  }\n",
              "\n",
              "  @keyframes spin {\n",
              "    0% {\n",
              "      border-color: transparent;\n",
              "      border-bottom-color: var(--fill-color);\n",
              "      border-left-color: var(--fill-color);\n",
              "    }\n",
              "    20% {\n",
              "      border-color: transparent;\n",
              "      border-left-color: var(--fill-color);\n",
              "      border-top-color: var(--fill-color);\n",
              "    }\n",
              "    30% {\n",
              "      border-color: transparent;\n",
              "      border-left-color: var(--fill-color);\n",
              "      border-top-color: var(--fill-color);\n",
              "      border-right-color: var(--fill-color);\n",
              "    }\n",
              "    40% {\n",
              "      border-color: transparent;\n",
              "      border-right-color: var(--fill-color);\n",
              "      border-top-color: var(--fill-color);\n",
              "    }\n",
              "    60% {\n",
              "      border-color: transparent;\n",
              "      border-right-color: var(--fill-color);\n",
              "    }\n",
              "    80% {\n",
              "      border-color: transparent;\n",
              "      border-right-color: var(--fill-color);\n",
              "      border-bottom-color: var(--fill-color);\n",
              "    }\n",
              "    90% {\n",
              "      border-color: transparent;\n",
              "      border-bottom-color: var(--fill-color);\n",
              "    }\n",
              "  }\n",
              "</style>\n",
              "\n",
              "  <script>\n",
              "    async function quickchart(key) {\n",
              "      const quickchartButtonEl =\n",
              "        document.querySelector('#' + key + ' button');\n",
              "      quickchartButtonEl.disabled = true;  // To prevent multiple clicks.\n",
              "      quickchartButtonEl.classList.add('colab-df-spinner');\n",
              "      try {\n",
              "        const charts = await google.colab.kernel.invokeFunction(\n",
              "            'suggestCharts', [key], {});\n",
              "      } catch (error) {\n",
              "        console.error('Error during call to suggestCharts:', error);\n",
              "      }\n",
              "      quickchartButtonEl.classList.remove('colab-df-spinner');\n",
              "      quickchartButtonEl.classList.add('colab-df-quickchart-complete');\n",
              "    }\n",
              "    (() => {\n",
              "      let quickchartButtonEl =\n",
              "        document.querySelector('#df-bdb8673e-cfa9-4b36-924f-56ec89caa950 button');\n",
              "      quickchartButtonEl.style.display =\n",
              "        google.colab.kernel.accessAllowed ? 'block' : 'none';\n",
              "    })();\n",
              "  </script>\n",
              "</div>\n",
              "\n",
              "    </div>\n",
              "  </div>\n"
            ],
            "application/vnd.google.colaboratory.intrinsic+json": {
              "type": "dataframe",
              "variable_name": "df_re"
            }
          },
          "metadata": {},
          "execution_count": 6
        }
      ]
    },
    {
      "cell_type": "markdown",
      "source": [
        "## **2.2 Dropping Unused Columns**"
      ],
      "metadata": {
        "id": "vS6v-GMUC__H"
      }
    },
    {
      "cell_type": "markdown",
      "source": [
        "เมื่อพิจารณาถึงความต้องการในการวิเคราะห์ พบว่าบางคอลัมน์นั้นไม่มีความจำเป็นที่จะต้องใช้ในการวิเคราะห์ครั้งนี้ จึงได้ทำการลบคอลัมน์เหล่านั้นออกไป"
      ],
      "metadata": {
        "id": "W1w-HccqDEGw"
      }
    },
    {
      "cell_type": "code",
      "source": [
        "# Dropping Unused Columns\n",
        "df = df_re.drop(['required_age','DiscountDLC count', 'About the game','Supported languages', 'Full audio languages',\n",
        "                 'Header image', 'Website', 'Support url', 'Support email','User score', 'Metacritic url', 'Score rank',\n",
        "                 'Achievements','Notes', 'Average playtime two weeks', 'Median playtime two weeks','Tags', 'Screenshots', 'Movies'], axis = 1)"
      ],
      "metadata": {
        "id": "SsG-IzcCDiV3"
      },
      "execution_count": 7,
      "outputs": []
    },
    {
      "cell_type": "markdown",
      "source": [
        "## **2.3 Missing Value**"
      ],
      "metadata": {
        "id": "W6A8ijl8Mo8m"
      }
    },
    {
      "cell_type": "markdown",
      "source": [
        "เมื่อลองตรวจสอบข้อมูลที่หายไป พบว่าคอลัมน์ที่มีข้อมูลที่หายไปมีทั้งหมด 5 คอลัมน์ด้วยกัน ได้แก่ คอลัมน์ 'Reviews',  'Developers', 'Publishers', 'Categories' และ 'Genres'"
      ],
      "metadata": {
        "id": "7bAPyytyYhRi"
      }
    },
    {
      "cell_type": "code",
      "source": [
        "# Check Missing Values\n",
        "df.isna().sum()"
      ],
      "metadata": {
        "colab": {
          "base_uri": "https://localhost:8080/",
          "height": 641
        },
        "id": "y2IVtU3xKQKs",
        "outputId": "82dfcf67-47e6-4a8e-c7cd-48936bd6708a"
      },
      "execution_count": 8,
      "outputs": [
        {
          "output_type": "execute_result",
          "data": {
            "text/plain": [
              "Release_date            0\n",
              "owners                  0\n",
              "Peak_CCU                0\n",
              "Price                   0\n",
              "Reviews             87285\n",
              "Windows                 0\n",
              "Mac                     0\n",
              "Linux                   0\n",
              "Metacritic_score        0\n",
              "Positive                0\n",
              "Negative                0\n",
              "Recommendations         0\n",
              "Avg_playtime            0\n",
              "Median_playtime         0\n",
              "Developers           4877\n",
              "Publishers           5171\n",
              "Categories           5913\n",
              "Genres               4841\n",
              "dtype: int64"
            ],
            "text/html": [
              "<div>\n",
              "<style scoped>\n",
              "    .dataframe tbody tr th:only-of-type {\n",
              "        vertical-align: middle;\n",
              "    }\n",
              "\n",
              "    .dataframe tbody tr th {\n",
              "        vertical-align: top;\n",
              "    }\n",
              "\n",
              "    .dataframe thead th {\n",
              "        text-align: right;\n",
              "    }\n",
              "</style>\n",
              "<table border=\"1\" class=\"dataframe\">\n",
              "  <thead>\n",
              "    <tr style=\"text-align: right;\">\n",
              "      <th></th>\n",
              "      <th>0</th>\n",
              "    </tr>\n",
              "  </thead>\n",
              "  <tbody>\n",
              "    <tr>\n",
              "      <th>Release_date</th>\n",
              "      <td>0</td>\n",
              "    </tr>\n",
              "    <tr>\n",
              "      <th>owners</th>\n",
              "      <td>0</td>\n",
              "    </tr>\n",
              "    <tr>\n",
              "      <th>Peak_CCU</th>\n",
              "      <td>0</td>\n",
              "    </tr>\n",
              "    <tr>\n",
              "      <th>Price</th>\n",
              "      <td>0</td>\n",
              "    </tr>\n",
              "    <tr>\n",
              "      <th>Reviews</th>\n",
              "      <td>87285</td>\n",
              "    </tr>\n",
              "    <tr>\n",
              "      <th>Windows</th>\n",
              "      <td>0</td>\n",
              "    </tr>\n",
              "    <tr>\n",
              "      <th>Mac</th>\n",
              "      <td>0</td>\n",
              "    </tr>\n",
              "    <tr>\n",
              "      <th>Linux</th>\n",
              "      <td>0</td>\n",
              "    </tr>\n",
              "    <tr>\n",
              "      <th>Metacritic_score</th>\n",
              "      <td>0</td>\n",
              "    </tr>\n",
              "    <tr>\n",
              "      <th>Positive</th>\n",
              "      <td>0</td>\n",
              "    </tr>\n",
              "    <tr>\n",
              "      <th>Negative</th>\n",
              "      <td>0</td>\n",
              "    </tr>\n",
              "    <tr>\n",
              "      <th>Recommendations</th>\n",
              "      <td>0</td>\n",
              "    </tr>\n",
              "    <tr>\n",
              "      <th>Avg_playtime</th>\n",
              "      <td>0</td>\n",
              "    </tr>\n",
              "    <tr>\n",
              "      <th>Median_playtime</th>\n",
              "      <td>0</td>\n",
              "    </tr>\n",
              "    <tr>\n",
              "      <th>Developers</th>\n",
              "      <td>4877</td>\n",
              "    </tr>\n",
              "    <tr>\n",
              "      <th>Publishers</th>\n",
              "      <td>5171</td>\n",
              "    </tr>\n",
              "    <tr>\n",
              "      <th>Categories</th>\n",
              "      <td>5913</td>\n",
              "    </tr>\n",
              "    <tr>\n",
              "      <th>Genres</th>\n",
              "      <td>4841</td>\n",
              "    </tr>\n",
              "  </tbody>\n",
              "</table>\n",
              "</div><br><label><b>dtype:</b> int64</label>"
            ]
          },
          "metadata": {},
          "execution_count": 8
        }
      ]
    },
    {
      "cell_type": "code",
      "source": [
        "# Percent Of Missing Values\n",
        "print(f\"Percent of missing Reviews = {df['Reviews'].isnull().sum()/df.shape[0]*100:.2f}%\")\n",
        "print(f\"Percent of missing Developers = {df['Developers'].isnull().sum()/df.shape[0]*100:.2f}%\")\n",
        "print(f\"Percent of missing Publishers = {df['Publishers'].isnull().sum()/df.shape[0]*100:.2f}%\")\n",
        "print(f\"Percent of missing Categories = {df['Categories'].isnull().sum()/df.shape[0]*100:.2f}%\")\n",
        "print(f\"Percent of missing Genres = {df['Genres'].isnull().sum()/df.shape[0]*100:.2f}%\")"
      ],
      "metadata": {
        "colab": {
          "base_uri": "https://localhost:8080/"
        },
        "id": "bysK9lDtNiuf",
        "outputId": "e11652ba-920e-47b9-c0fc-9a757171063a"
      },
      "execution_count": 9,
      "outputs": [
        {
          "output_type": "stream",
          "name": "stdout",
          "text": [
            "Percent of missing Reviews = 89.61%\n",
            "Percent of missing Developers = 5.01%\n",
            "Percent of missing Publishers = 5.31%\n",
            "Percent of missing Categories = 6.07%\n",
            "Percent of missing Genres = 4.97%\n"
          ]
        }
      ]
    },
    {
      "cell_type": "markdown",
      "source": [
        "เมื่อทำการตรวจสอบอัตราส่วนของข้อมูลที่หายไป พบว่าคอลัมน์ 'Reviews' มีอัตราส่วนถึง 89.61 ซึ่งถือว่าสูงมาก จึงได้ตัดสินใจลบคอลัมน์ 'Reviews' ออก\n",
        "ในขณะที่คอลัมน์ 'Developers', 'Publishers', 'Categories' และ 'Genres'\n",
        "มีอัตราส่วนของข้อมูลที่หายไปไม่ถึง 1 ใน 10 ของข้อมูลทั้งหมด จึงเลือกที่จะเก็บคอลัมน์เหล่านี้ไว้และแทนค่าข้อมูลที่หายไปด้วยคำว่า unknown"
      ],
      "metadata": {
        "id": "nX7i1AZ3WAWs"
      }
    },
    {
      "cell_type": "code",
      "source": [
        "d1 = df.drop('Reviews', axis = 1)"
      ],
      "metadata": {
        "id": "Ud4HGLaFOegi"
      },
      "execution_count": 10,
      "outputs": []
    },
    {
      "cell_type": "code",
      "source": [
        "d1['Developers'].fillna('unknown', inplace=True)\n",
        "d1['Publishers'].fillna('unknown', inplace=True)\n",
        "d1['Categories'].fillna('unknown', inplace=True)\n",
        "d1['Genres'].fillna('unknown', inplace=True)"
      ],
      "metadata": {
        "id": "svORZvm6V5WQ"
      },
      "execution_count": 11,
      "outputs": []
    },
    {
      "cell_type": "markdown",
      "source": [
        "## **2.4 Converting formats**"
      ],
      "metadata": {
        "id": "vw_MaOaiaa4d"
      }
    },
    {
      "cell_type": "markdown",
      "source": [
        "เนื่องจากข้อมูลในคอลัมน์ 'Avg_playtime' และ 'Median_playtime' ถูกบันทึกในหน่วยนาที ซึ่งอาจทำให้การอ่านค่อนข้างยาก จึงได้ทำการแปลงหน่วยจากนาทีเป็นชั่วโมงเพื่อลดจำนวนตัวเลขให้อ่านง่ายขึ้น นอกจากนี้ คอลัมน์ 'Release_date' ที่มีรูปแบบเป็น object ได้ถูกปรับให้อยู่ในรูปแบบวันที่ และได้สร้างคอลัมน์ 'Year' เพิ่มขึ้นมาเพื่ออำนวยความสะดวกในการวิเคราะห์ข้อมูลเพิ่มเติม"
      ],
      "metadata": {
        "id": "Z5j9GOgfao90"
      }
    },
    {
      "cell_type": "code",
      "source": [
        "# Convert Minutes To Hours\n",
        "def minutes_to_hours(minutes:int):\n",
        "    hours = (minutes) // 60      # Integer division to get hours\n",
        "    return hours\n",
        "\n",
        "d1['Avg_playtime'] = d1['Avg_playtime'].apply(minutes_to_hours)\n",
        "d1['Median_playtime'] = d1['Median_playtime'].apply(minutes_to_hours)"
      ],
      "metadata": {
        "id": "CLejGmlsapNo"
      },
      "execution_count": 12,
      "outputs": []
    },
    {
      "cell_type": "code",
      "source": [
        "# Converting Type\n",
        "d1['Release_date'] = pd.to_datetime(d1['Release_date'], errors='coerce')\n",
        "d1['Year'] = d1['Release_date'].dt.year\n",
        "d1['Year'] = d1['Year'].astype('Int64')"
      ],
      "metadata": {
        "id": "PW-IlTr3bMS-"
      },
      "execution_count": 13,
      "outputs": []
    },
    {
      "cell_type": "markdown",
      "source": [
        "สุดท้ายแล้วข้อมูลจะมีคอลัมน์ทั้งหมด 18 คอลัมน์ และข้อมูลที่ได้ทำการเปลี่ยนรูปแบบเป็นดังต่อไปนี้"
      ],
      "metadata": {
        "id": "DUyD-xvlGed4"
      }
    },
    {
      "cell_type": "code",
      "source": [
        "# Show data info\n",
        "d1.info()\n",
        "d1.loc[:, ['Avg_playtime','Median_playtime', 'Year']].sort_values(by=['Avg_playtime'], ascending=False)"
      ],
      "metadata": {
        "colab": {
          "base_uri": "https://localhost:8080/",
          "height": 875
        },
        "id": "90wfhmqAN4OP",
        "outputId": "3d65b025-5bc8-4662-ff2f-6546767ee368"
      },
      "execution_count": 17,
      "outputs": [
        {
          "output_type": "stream",
          "name": "stdout",
          "text": [
            "<class 'pandas.core.frame.DataFrame'>\n",
            "Index: 97410 entries, Galactic Bowling to Lober Lobe\n",
            "Data columns (total 18 columns):\n",
            " #   Column            Non-Null Count  Dtype         \n",
            "---  ------            --------------  -----         \n",
            " 0   Release_date      97279 non-null  datetime64[ns]\n",
            " 1   owners            97410 non-null  float64       \n",
            " 2   Peak_CCU          97410 non-null  int64         \n",
            " 3   Price             97410 non-null  float64       \n",
            " 4   Windows           97410 non-null  bool          \n",
            " 5   Mac               97410 non-null  bool          \n",
            " 6   Linux             97410 non-null  bool          \n",
            " 7   Metacritic_score  97410 non-null  int64         \n",
            " 8   Positive          97410 non-null  int64         \n",
            " 9   Negative          97410 non-null  int64         \n",
            " 10  Recommendations   97410 non-null  int64         \n",
            " 11  Avg_playtime      97410 non-null  int64         \n",
            " 12  Median_playtime   97410 non-null  int64         \n",
            " 13  Developers        97410 non-null  object        \n",
            " 14  Publishers        97410 non-null  object        \n",
            " 15  Categories        97410 non-null  object        \n",
            " 16  Genres            97410 non-null  object        \n",
            " 17  Year              97279 non-null  Int64         \n",
            "dtypes: Int64(1), bool(3), datetime64[ns](1), float64(2), int64(7), object(4)\n",
            "memory usage: 12.3+ MB\n"
          ]
        },
        {
          "output_type": "execute_result",
          "data": {
            "text/plain": [
              "                                     Avg_playtime  Median_playtime  Year\n",
              "Name                                                                    \n",
              "Boom 3D                                      2428             2428  2019\n",
              "Energy Engine PC Live Wallpaper              1737             3474  2019\n",
              "副作用之瞳-Tlicolity Eyes-                        1505             1505  2021\n",
              "Defense Clicker                              1267             1267  2017\n",
              "Relive                                       1139             2277  2015\n",
              "...                                           ...              ...   ...\n",
              "Flight Of Nova                                  0                0  2022\n",
              "Immersion Chess                                 0                0  2017\n",
              "Abda Redeemer: Space alien invasion             0                0  2021\n",
              "The Emperor's Own: Alpha Teaser                 0                0  2020\n",
              "Lober Lobe                                      0                0  2024\n",
              "\n",
              "[97410 rows x 3 columns]"
            ],
            "text/html": [
              "\n",
              "  <div id=\"df-40e1428f-f62e-47bc-a326-1e550a39c23f\" class=\"colab-df-container\">\n",
              "    <div>\n",
              "<style scoped>\n",
              "    .dataframe tbody tr th:only-of-type {\n",
              "        vertical-align: middle;\n",
              "    }\n",
              "\n",
              "    .dataframe tbody tr th {\n",
              "        vertical-align: top;\n",
              "    }\n",
              "\n",
              "    .dataframe thead th {\n",
              "        text-align: right;\n",
              "    }\n",
              "</style>\n",
              "<table border=\"1\" class=\"dataframe\">\n",
              "  <thead>\n",
              "    <tr style=\"text-align: right;\">\n",
              "      <th></th>\n",
              "      <th>Avg_playtime</th>\n",
              "      <th>Median_playtime</th>\n",
              "      <th>Year</th>\n",
              "    </tr>\n",
              "    <tr>\n",
              "      <th>Name</th>\n",
              "      <th></th>\n",
              "      <th></th>\n",
              "      <th></th>\n",
              "    </tr>\n",
              "  </thead>\n",
              "  <tbody>\n",
              "    <tr>\n",
              "      <th>Boom 3D</th>\n",
              "      <td>2428</td>\n",
              "      <td>2428</td>\n",
              "      <td>2019</td>\n",
              "    </tr>\n",
              "    <tr>\n",
              "      <th>Energy Engine PC Live Wallpaper</th>\n",
              "      <td>1737</td>\n",
              "      <td>3474</td>\n",
              "      <td>2019</td>\n",
              "    </tr>\n",
              "    <tr>\n",
              "      <th>副作用之瞳-Tlicolity Eyes-</th>\n",
              "      <td>1505</td>\n",
              "      <td>1505</td>\n",
              "      <td>2021</td>\n",
              "    </tr>\n",
              "    <tr>\n",
              "      <th>Defense Clicker</th>\n",
              "      <td>1267</td>\n",
              "      <td>1267</td>\n",
              "      <td>2017</td>\n",
              "    </tr>\n",
              "    <tr>\n",
              "      <th>Relive</th>\n",
              "      <td>1139</td>\n",
              "      <td>2277</td>\n",
              "      <td>2015</td>\n",
              "    </tr>\n",
              "    <tr>\n",
              "      <th>...</th>\n",
              "      <td>...</td>\n",
              "      <td>...</td>\n",
              "      <td>...</td>\n",
              "    </tr>\n",
              "    <tr>\n",
              "      <th>Flight Of Nova</th>\n",
              "      <td>0</td>\n",
              "      <td>0</td>\n",
              "      <td>2022</td>\n",
              "    </tr>\n",
              "    <tr>\n",
              "      <th>Immersion Chess</th>\n",
              "      <td>0</td>\n",
              "      <td>0</td>\n",
              "      <td>2017</td>\n",
              "    </tr>\n",
              "    <tr>\n",
              "      <th>Abda Redeemer: Space alien invasion</th>\n",
              "      <td>0</td>\n",
              "      <td>0</td>\n",
              "      <td>2021</td>\n",
              "    </tr>\n",
              "    <tr>\n",
              "      <th>The Emperor's Own: Alpha Teaser</th>\n",
              "      <td>0</td>\n",
              "      <td>0</td>\n",
              "      <td>2020</td>\n",
              "    </tr>\n",
              "    <tr>\n",
              "      <th>Lober Lobe</th>\n",
              "      <td>0</td>\n",
              "      <td>0</td>\n",
              "      <td>2024</td>\n",
              "    </tr>\n",
              "  </tbody>\n",
              "</table>\n",
              "<p>97410 rows × 3 columns</p>\n",
              "</div>\n",
              "    <div class=\"colab-df-buttons\">\n",
              "\n",
              "  <div class=\"colab-df-container\">\n",
              "    <button class=\"colab-df-convert\" onclick=\"convertToInteractive('df-40e1428f-f62e-47bc-a326-1e550a39c23f')\"\n",
              "            title=\"Convert this dataframe to an interactive table.\"\n",
              "            style=\"display:none;\">\n",
              "\n",
              "  <svg xmlns=\"http://www.w3.org/2000/svg\" height=\"24px\" viewBox=\"0 -960 960 960\">\n",
              "    <path d=\"M120-120v-720h720v720H120Zm60-500h600v-160H180v160Zm220 220h160v-160H400v160Zm0 220h160v-160H400v160ZM180-400h160v-160H180v160Zm440 0h160v-160H620v160ZM180-180h160v-160H180v160Zm440 0h160v-160H620v160Z\"/>\n",
              "  </svg>\n",
              "    </button>\n",
              "\n",
              "  <style>\n",
              "    .colab-df-container {\n",
              "      display:flex;\n",
              "      gap: 12px;\n",
              "    }\n",
              "\n",
              "    .colab-df-convert {\n",
              "      background-color: #E8F0FE;\n",
              "      border: none;\n",
              "      border-radius: 50%;\n",
              "      cursor: pointer;\n",
              "      display: none;\n",
              "      fill: #1967D2;\n",
              "      height: 32px;\n",
              "      padding: 0 0 0 0;\n",
              "      width: 32px;\n",
              "    }\n",
              "\n",
              "    .colab-df-convert:hover {\n",
              "      background-color: #E2EBFA;\n",
              "      box-shadow: 0px 1px 2px rgba(60, 64, 67, 0.3), 0px 1px 3px 1px rgba(60, 64, 67, 0.15);\n",
              "      fill: #174EA6;\n",
              "    }\n",
              "\n",
              "    .colab-df-buttons div {\n",
              "      margin-bottom: 4px;\n",
              "    }\n",
              "\n",
              "    [theme=dark] .colab-df-convert {\n",
              "      background-color: #3B4455;\n",
              "      fill: #D2E3FC;\n",
              "    }\n",
              "\n",
              "    [theme=dark] .colab-df-convert:hover {\n",
              "      background-color: #434B5C;\n",
              "      box-shadow: 0px 1px 3px 1px rgba(0, 0, 0, 0.15);\n",
              "      filter: drop-shadow(0px 1px 2px rgba(0, 0, 0, 0.3));\n",
              "      fill: #FFFFFF;\n",
              "    }\n",
              "  </style>\n",
              "\n",
              "    <script>\n",
              "      const buttonEl =\n",
              "        document.querySelector('#df-40e1428f-f62e-47bc-a326-1e550a39c23f button.colab-df-convert');\n",
              "      buttonEl.style.display =\n",
              "        google.colab.kernel.accessAllowed ? 'block' : 'none';\n",
              "\n",
              "      async function convertToInteractive(key) {\n",
              "        const element = document.querySelector('#df-40e1428f-f62e-47bc-a326-1e550a39c23f');\n",
              "        const dataTable =\n",
              "          await google.colab.kernel.invokeFunction('convertToInteractive',\n",
              "                                                    [key], {});\n",
              "        if (!dataTable) return;\n",
              "\n",
              "        const docLinkHtml = 'Like what you see? Visit the ' +\n",
              "          '<a target=\"_blank\" href=https://colab.research.google.com/notebooks/data_table.ipynb>data table notebook</a>'\n",
              "          + ' to learn more about interactive tables.';\n",
              "        element.innerHTML = '';\n",
              "        dataTable['output_type'] = 'display_data';\n",
              "        await google.colab.output.renderOutput(dataTable, element);\n",
              "        const docLink = document.createElement('div');\n",
              "        docLink.innerHTML = docLinkHtml;\n",
              "        element.appendChild(docLink);\n",
              "      }\n",
              "    </script>\n",
              "  </div>\n",
              "\n",
              "\n",
              "<div id=\"df-c788689b-5dab-4390-ae01-e7adfff37bcc\">\n",
              "  <button class=\"colab-df-quickchart\" onclick=\"quickchart('df-c788689b-5dab-4390-ae01-e7adfff37bcc')\"\n",
              "            title=\"Suggest charts\"\n",
              "            style=\"display:none;\">\n",
              "\n",
              "<svg xmlns=\"http://www.w3.org/2000/svg\" height=\"24px\"viewBox=\"0 0 24 24\"\n",
              "     width=\"24px\">\n",
              "    <g>\n",
              "        <path d=\"M19 3H5c-1.1 0-2 .9-2 2v14c0 1.1.9 2 2 2h14c1.1 0 2-.9 2-2V5c0-1.1-.9-2-2-2zM9 17H7v-7h2v7zm4 0h-2V7h2v10zm4 0h-2v-4h2v4z\"/>\n",
              "    </g>\n",
              "</svg>\n",
              "  </button>\n",
              "\n",
              "<style>\n",
              "  .colab-df-quickchart {\n",
              "      --bg-color: #E8F0FE;\n",
              "      --fill-color: #1967D2;\n",
              "      --hover-bg-color: #E2EBFA;\n",
              "      --hover-fill-color: #174EA6;\n",
              "      --disabled-fill-color: #AAA;\n",
              "      --disabled-bg-color: #DDD;\n",
              "  }\n",
              "\n",
              "  [theme=dark] .colab-df-quickchart {\n",
              "      --bg-color: #3B4455;\n",
              "      --fill-color: #D2E3FC;\n",
              "      --hover-bg-color: #434B5C;\n",
              "      --hover-fill-color: #FFFFFF;\n",
              "      --disabled-bg-color: #3B4455;\n",
              "      --disabled-fill-color: #666;\n",
              "  }\n",
              "\n",
              "  .colab-df-quickchart {\n",
              "    background-color: var(--bg-color);\n",
              "    border: none;\n",
              "    border-radius: 50%;\n",
              "    cursor: pointer;\n",
              "    display: none;\n",
              "    fill: var(--fill-color);\n",
              "    height: 32px;\n",
              "    padding: 0;\n",
              "    width: 32px;\n",
              "  }\n",
              "\n",
              "  .colab-df-quickchart:hover {\n",
              "    background-color: var(--hover-bg-color);\n",
              "    box-shadow: 0 1px 2px rgba(60, 64, 67, 0.3), 0 1px 3px 1px rgba(60, 64, 67, 0.15);\n",
              "    fill: var(--button-hover-fill-color);\n",
              "  }\n",
              "\n",
              "  .colab-df-quickchart-complete:disabled,\n",
              "  .colab-df-quickchart-complete:disabled:hover {\n",
              "    background-color: var(--disabled-bg-color);\n",
              "    fill: var(--disabled-fill-color);\n",
              "    box-shadow: none;\n",
              "  }\n",
              "\n",
              "  .colab-df-spinner {\n",
              "    border: 2px solid var(--fill-color);\n",
              "    border-color: transparent;\n",
              "    border-bottom-color: var(--fill-color);\n",
              "    animation:\n",
              "      spin 1s steps(1) infinite;\n",
              "  }\n",
              "\n",
              "  @keyframes spin {\n",
              "    0% {\n",
              "      border-color: transparent;\n",
              "      border-bottom-color: var(--fill-color);\n",
              "      border-left-color: var(--fill-color);\n",
              "    }\n",
              "    20% {\n",
              "      border-color: transparent;\n",
              "      border-left-color: var(--fill-color);\n",
              "      border-top-color: var(--fill-color);\n",
              "    }\n",
              "    30% {\n",
              "      border-color: transparent;\n",
              "      border-left-color: var(--fill-color);\n",
              "      border-top-color: var(--fill-color);\n",
              "      border-right-color: var(--fill-color);\n",
              "    }\n",
              "    40% {\n",
              "      border-color: transparent;\n",
              "      border-right-color: var(--fill-color);\n",
              "      border-top-color: var(--fill-color);\n",
              "    }\n",
              "    60% {\n",
              "      border-color: transparent;\n",
              "      border-right-color: var(--fill-color);\n",
              "    }\n",
              "    80% {\n",
              "      border-color: transparent;\n",
              "      border-right-color: var(--fill-color);\n",
              "      border-bottom-color: var(--fill-color);\n",
              "    }\n",
              "    90% {\n",
              "      border-color: transparent;\n",
              "      border-bottom-color: var(--fill-color);\n",
              "    }\n",
              "  }\n",
              "</style>\n",
              "\n",
              "  <script>\n",
              "    async function quickchart(key) {\n",
              "      const quickchartButtonEl =\n",
              "        document.querySelector('#' + key + ' button');\n",
              "      quickchartButtonEl.disabled = true;  // To prevent multiple clicks.\n",
              "      quickchartButtonEl.classList.add('colab-df-spinner');\n",
              "      try {\n",
              "        const charts = await google.colab.kernel.invokeFunction(\n",
              "            'suggestCharts', [key], {});\n",
              "      } catch (error) {\n",
              "        console.error('Error during call to suggestCharts:', error);\n",
              "      }\n",
              "      quickchartButtonEl.classList.remove('colab-df-spinner');\n",
              "      quickchartButtonEl.classList.add('colab-df-quickchart-complete');\n",
              "    }\n",
              "    (() => {\n",
              "      let quickchartButtonEl =\n",
              "        document.querySelector('#df-c788689b-5dab-4390-ae01-e7adfff37bcc button');\n",
              "      quickchartButtonEl.style.display =\n",
              "        google.colab.kernel.accessAllowed ? 'block' : 'none';\n",
              "    })();\n",
              "  </script>\n",
              "</div>\n",
              "\n",
              "    </div>\n",
              "  </div>\n"
            ],
            "application/vnd.google.colaboratory.intrinsic+json": {
              "type": "dataframe",
              "summary": "{\n  \"name\": \"d1\",\n  \"rows\": 97410,\n  \"fields\": [\n    {\n      \"column\": \"Name\",\n      \"properties\": {\n        \"dtype\": \"string\",\n        \"num_unique_values\": 96508,\n        \"samples\": [\n          \"CameraBag Photo\",\n          \"Seekers: Enlightenment\",\n          \"Orc Assault\"\n        ],\n        \"semantic_type\": \"\",\n        \"description\": \"\"\n      }\n    },\n    {\n      \"column\": \"Avg_playtime\",\n      \"properties\": {\n        \"dtype\": \"number\",\n        \"std\": 17,\n        \"min\": 0,\n        \"max\": 2428,\n        \"num_unique_values\": 227,\n        \"samples\": [\n          788,\n          83,\n          555\n        ],\n        \"semantic_type\": \"\",\n        \"description\": \"\"\n      }\n    },\n    {\n      \"column\": \"Median_playtime\",\n      \"properties\": {\n        \"dtype\": \"number\",\n        \"std\": 23,\n        \"min\": 0,\n        \"max\": 3474,\n        \"num_unique_values\": 187,\n        \"samples\": [\n          37,\n          235,\n          104\n        ],\n        \"semantic_type\": \"\",\n        \"description\": \"\"\n      }\n    },\n    {\n      \"column\": \"Year\",\n      \"properties\": {\n        \"dtype\": \"Int64\",\n        \"num_unique_values\": 29,\n        \"samples\": [\n          1997,\n          2004,\n          2000\n        ],\n        \"semantic_type\": \"\",\n        \"description\": \"\"\n      }\n    }\n  ]\n}"
            }
          },
          "metadata": {},
          "execution_count": 17
        }
      ]
    },
    {
      "cell_type": "markdown",
      "source": [
        "\n",
        "\n",
        "---\n",
        "\n"
      ],
      "metadata": {
        "id": "lEfd-eXlOiGL"
      }
    },
    {
      "cell_type": "markdown",
      "source": [
        "# **3. Data Exploratory**"
      ],
      "metadata": {
        "id": "8JNz50WAOi48"
      }
    },
    {
      "cell_type": "markdown",
      "source": [
        "หลังจากการ cleansing ข้อมูล ต้องการที่จะรู้ว่าข้อมูลมีอะไรที่น่าสนใจ หน้าตาลักษณะของข้อมูลเป็นอย่างไร"
      ],
      "metadata": {
        "id": "IHYeSnKPQlCj"
      }
    },
    {
      "cell_type": "markdown",
      "source": [
        "## **3.1 Categories**"
      ],
      "metadata": {
        "id": "WwnPTyDy81F2"
      }
    },
    {
      "cell_type": "markdown",
      "source": [
        "อย่างแรกได้ลองทำการแบ่ง category ของเกมดูก่อนว่าเกมนั้นมีกี่ category และมีอะไรบ้าง"
      ],
      "metadata": {
        "id": "rvfpBhR04Y_t"
      }
    },
    {
      "cell_type": "code",
      "source": [],
      "metadata": {
        "id": "AtW1ExRtNFLX"
      },
      "execution_count": null,
      "outputs": []
    },
    {
      "cell_type": "markdown",
      "source": [
        "เมื่อทราบจึงอยากรู้ว่าเกมใน category ไหนเป็นที่นิยมมากที่ ผลที่ได้คือ...เป็นที่นิยมมากที่สุด ตามกราฟที่ได้แสดงดังต่อไปนี้"
      ],
      "metadata": {
        "id": "BpvltR4o4fCK"
      }
    },
    {
      "cell_type": "code",
      "source": [],
      "metadata": {
        "id": "RmML5iK9O6l0"
      },
      "execution_count": null,
      "outputs": []
    },
    {
      "cell_type": "markdown",
      "source": [
        "## **3.2 Genres**"
      ],
      "metadata": {
        "id": "IqoYop4C9iUH"
      }
    },
    {
      "cell_type": "markdown",
      "source": [
        "จากนั้นได้ลองทำการแบ่ง genres ของเกมดูก่อนว่าเกมนั้นมีกี่ genres และมีอะไรบ้าง"
      ],
      "metadata": {
        "id": "TqBkAx1bO41O"
      }
    },
    {
      "cell_type": "code",
      "source": [],
      "metadata": {
        "id": "zXh5PGq2NHVo"
      },
      "execution_count": null,
      "outputs": []
    },
    {
      "cell_type": "markdown",
      "source": [
        "เมื่อทราบจึงอยากรู้ว่าเกมใน genres ไหนเป็นที่นิยมมากที่ ผลที่ได้คือ...เป็นที่นิยมมากที่สุด ตามกราฟที่ได้แสดงดังต่อไปนี้"
      ],
      "metadata": {
        "id": "E3t8x1RHNIDK"
      }
    },
    {
      "cell_type": "code",
      "source": [],
      "metadata": {
        "id": "mi60nJP4PP4y"
      },
      "execution_count": null,
      "outputs": []
    },
    {
      "cell_type": "markdown",
      "source": [
        "## **3.3 Playtime**"
      ],
      "metadata": {
        "id": "nXhVxQS5-By9"
      }
    },
    {
      "cell_type": "markdown",
      "source": [
        "อยากทราบว่าช่วงเวลาเฉลี่ยที่เล่นเกมในแต่ละปีเป็นเท่าใด แ"
      ],
      "metadata": {
        "id": "E7Jb-vvN-LU4"
      }
    },
    {
      "cell_type": "code",
      "source": [
        "#\n",
        "filtered_df = d1[(d1['Year'] >= 2014) & (d1['Year'] <= 2024)]\n",
        "\n",
        "plt.figure(figsize=(10, 6))\n",
        "sns.boxplot(x='Year', y='Avg_playtime', data=filtered_df)\n",
        "plt.xlabel('Year')\n",
        "plt.ylabel('Average Playtime (hours)')\n",
        "plt.title('Distribution of Average Playtime (2014-2024)')\n",
        "plt.show()"
      ],
      "metadata": {
        "colab": {
          "base_uri": "https://localhost:8080/",
          "height": 507
        },
        "id": "AeYVAfeGQlai",
        "outputId": "73688bfd-eebd-4487-ae17-8f66ea82fb08"
      },
      "execution_count": 15,
      "outputs": [
        {
          "output_type": "display_data",
          "data": {
            "text/plain": [
              "<Figure size 1000x600 with 1 Axes>"
            ],
            "image/png": "[encoded data removed]"
          },
          "metadata": {}
        }
      ]
    },
    {
      "cell_type": "markdown",
      "source": [],
      "metadata": {
        "id": "QBj4sjoaNKOg"
      }
    },
    {
      "cell_type": "markdown",
      "source": [
        "## **3.4 Price**"
      ],
      "metadata": {
        "id": "eKNOv9QHFknf"
      }
    },
    {
      "cell_type": "markdown",
      "source": [],
      "metadata": {
        "id": "Zit2HT0cLmN_"
      }
    },
    {
      "cell_type": "code",
      "source": [],
      "metadata": {
        "id": "6z3Hz-89NLbV"
      },
      "execution_count": null,
      "outputs": []
    },
    {
      "cell_type": "markdown",
      "source": [],
      "metadata": {
        "id": "iFjLM5vxNLps"
      }
    },
    {
      "cell_type": "markdown",
      "source": [
        "# **4. Insight Analysis**"
      ],
      "metadata": {
        "id": "TuhF8W_zctEg"
      }
    },
    {
      "cell_type": "markdown",
      "source": [
        "## **4.1 Correlation**"
      ],
      "metadata": {
        "id": "uvfawj3cKLbh"
      }
    },
    {
      "cell_type": "markdown",
      "source": [],
      "metadata": {
        "id": "Up9ZpB9JKYim"
      }
    },
    {
      "cell_type": "code",
      "source": [
        "# เลือกคอลัมน์ที่ต้องการดูความสัมพันธ์\n",
        "cols = ['Price', 'Avg_playtime', 'Positive', 'Negative', 'Windows', 'Mac', 'Linux', 'owners']\n",
        "\n",
        "# Convert 'Price' and 'owners' columns to numeric if they contain ranges\n",
        "# Assuming the ranges are in the format 'min - max'\n",
        "def convert_range_to_midpoint(value):\n",
        "    try:\n",
        "        # Attempt to convert directly to float if already numeric\n",
        "        return float(value)\n",
        "    except ValueError:\n",
        "        # If ValueError, assume it's a range and calculate midpoint\n",
        "        if isinstance(value, str) and '-' in value:\n",
        "            min_val, max_val = map(float, value.split('-'))\n",
        "            return (min_val + max_val) / 2\n",
        "        else:\n",
        "            # If not a recognizable range, return NaN\n",
        "            return float('nan')\n",
        "\n",
        "# Apply the conversion to 'Price' and 'owners' columns\n",
        "d1['Price'] = d1['Price'].apply(convert_range_to_midpoint)\n",
        "d1['owners'] = d1['owners'].apply(convert_range_to_midpoint)\n",
        "\n",
        "\n",
        "# สร้าง correlation matrix\n",
        "corr_matrix = d1[cols].corr()\n",
        "\n",
        "# วาด heatmap\n",
        "plt.figure(figsize=(10,8))\n",
        "sns.heatmap(corr_matrix, annot=True, cmap='coolwarm', linewidths=0.5)\n",
        "plt.title('Correlation Heatmap')\n",
        "plt.show()"
      ],
      "metadata": {
        "colab": {
          "base_uri": "https://localhost:8080/",
          "height": 699
        },
        "id": "kMQhaxAJnE_b",
        "outputId": "975e7490-c108-4712-f307-57d35a4d138e"
      },
      "execution_count": 18,
      "outputs": [
        {
          "output_type": "display_data",
          "data": {
            "text/plain": [
              "<Figure size 1000x800 with 2 Axes>"
            ],
            "image/png": "[encoded data removed]"
          },
          "metadata": {}
        }
      ]
    },
    {
      "cell_type": "markdown",
      "source": [
        "แต่เมื่อได้ดูจากกราฟ correlation กลับพบว่า ความสัมพันธ์ของการเป็นเจ้าของกับpositive nagative นั้นสูงมาก จึงได้เจาะลงไปว่าอะไรเป็นสาเหตุ"
      ],
      "metadata": {
        "id": "CirCu32xJl43"
      }
    },
    {
      "cell_type": "markdown",
      "source": [
        "## **4.2 Systems**"
      ],
      "metadata": {
        "id": "gla-Znj9MiI7"
      }
    },
    {
      "cell_type": "markdown",
      "source": [],
      "metadata": {
        "id": "gHJhjMCYM21J"
      }
    },
    {
      "cell_type": "code",
      "source": [],
      "metadata": {
        "id": "XIXacK0dM4M4"
      },
      "execution_count": null,
      "outputs": []
    },
    {
      "cell_type": "markdown",
      "source": [
        "## **4.3 Positive and Negative**"
      ],
      "metadata": {
        "id": "cJ6sNWf6Msui"
      }
    },
    {
      "cell_type": "markdown",
      "source": [],
      "metadata": {
        "id": "YmTbDXNMM3lS"
      }
    },
    {
      "cell_type": "code",
      "source": [],
      "metadata": {
        "id": "4SZ8FQeKNrKx"
      },
      "execution_count": 16,
      "outputs": []
    },
    {
      "cell_type": "markdown",
      "source": [
        "# **5. Summary**"
      ],
      "metadata": {
        "id": "X8BwLbao3E9o"
      }
    },
    {
      "cell_type": "markdown",
      "source": [
        "สุดท้ายนี้จากการวิเคราะห์ข้อมูลทั้งหมดสามารถสรุปได้ว่า"
      ],
      "metadata": {
        "id": "8pG4YFtK3SEe"
      }
    }
  ]
}